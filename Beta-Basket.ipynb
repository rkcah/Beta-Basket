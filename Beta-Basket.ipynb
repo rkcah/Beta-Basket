{
 "cells": [
  {
   "cell_type": "code",
   "execution_count": 260,
   "metadata": {},
   "outputs": [],
   "source": [
    "#Importing Libraries\n",
    "import pandas as pd\n",
    "import numpy as np\n",
    "import glob\n",
    "from datetime import date,timedelta\n",
    "from nsepy import get_history\n",
    "from pyfinance.ols import PandasRollingOLS\n",
    "import statsmodels.api as sm\n",
    "import talib as tb\n",
    "import os\n",
    "import scipy.stats as s"
   ]
  },
  {
   "cell_type": "code",
   "execution_count": 261,
   "metadata": {},
   "outputs": [],
   "source": [
    "PATH = 'Data/'"
   ]
  },
  {
   "cell_type": "code",
   "execution_count": 262,
   "metadata": {},
   "outputs": [],
   "source": [
    "def portfolioCreator(filter_name=\"\",PATH = 'Data/'):\n",
    "    \"\"\"\n",
    "    Creates a dictionary of dataframes(dates*stocks) of Close,\n",
    "    Open,High,Low and Turnover\n",
    "    \"\"\"\n",
    "    \n",
    "    #Reading the dates and allocating memory\n",
    "    dates = pd.read_csv(os.path.join(PATH,'dates.csv'),header = None,names = [\"Date\"])\n",
    "    dates['Date'] = pd.to_datetime(dates['Date'],yearfirst = True)\n",
    "    files = glob.glob(os.path.join(PATH,'nse_*.csv'))\n",
    "    portfolio = dict()\n",
    "    \n",
    "    for file in files:\n",
    "        \n",
    "        df = pd.read_csv(file)\n",
    "        df['_id']= dates['Date']\n",
    "        df.set_index('_id',inplace = True)\n",
    "        df.index.names = ['Date']\n",
    "        \n",
    "        #Creating the Universe\n",
    "        \n",
    "        if(filter_name == 'NIFTY'):\n",
    "            ticker_list = pd.read_csv(os.path.join(PATH,'ind_nifty50list.csv'))['Symbol']\n",
    "        elif(filter_name == 'FNO'):\n",
    "            ticker_list = pd.read_csv(os.path.join(PATH,'fno_list.csv'))['Symbol']\n",
    "        else:\n",
    "            ticker_list = df.columns\n",
    "            \n",
    "        df = df.loc[:,ticker_list].dropna(axis=1, how='all')\n",
    "        portfolio[file[file.find('.')+1:file.rfind('.')]] = df\n",
    "        \n",
    "    return portfolio"
   ]
  },
  {
   "cell_type": "code",
   "execution_count": 23,
   "metadata": {},
   "outputs": [],
   "source": [
    "portfolio = portfolioCreator()"
   ]
  },
  {
   "cell_type": "code",
   "execution_count": 25,
   "metadata": {},
   "outputs": [],
   "source": [
    "def createFilter(df = pd.DataFrame(),N = 200):\n",
    "    \"\"\"\n",
    "    Creates a filter based on n-day Moving Average\n",
    "    \"\"\"\n",
    "    \n",
    "    _filter = pd.DataFrame(index = df.index,columns = df.columns)\n",
    "    \n",
    "    for stock in df.columns:\n",
    "        _filter.loc[:,stock] = df[stock]>df[stock].rolling(N).mean()\n",
    "    _filter.index = pd.to_datetime(_filter.index,yearfirst=True)\n",
    "    \n",
    "    return _filter"
   ]
  },
  {
   "cell_type": "code",
   "execution_count": 72,
   "metadata": {},
   "outputs": [],
   "source": [
    "NIFTY = pd.read_csv(os.path.join(PATH,'NIFTY50.csv'),index_col = 'Date',usecols = ['Date','Close'])\n",
    "nifty_filter = createFilter(NIFTY,200)\n",
    "\n",
    "stock_filter = createFilter(portfolio['Close'],100)"
   ]
  },
  {
   "cell_type": "code",
   "execution_count": 276,
   "metadata": {},
   "outputs": [],
   "source": [
    "def regressionRunner(portfolio = dict()):\n",
    "    \"\"\"\n",
    "    Calculates beta and R Squared Values on a regression\n",
    "    \"\"\"\n",
    "    df = np.log(portfolio['Close'])\n",
    "    df = df.reset_index()\n",
    "    date_idx = df.Date\n",
    "    df = df.drop(['Date'],axis=1)\n",
    "    \n",
    "    rsq = pd.DataFrame(index= df.index, columns=df.columns)\n",
    "    beta = pd.DataFrame(index= df.index, columns=df.columns)\n",
    "    \n",
    "    for stock in df.columns:\n",
    "        model = PandasRollingOLS(y=df[stock],x=df.index, window=90,has_const=False)\n",
    "        rsq[stock]= model.rsq[model.rsq<1]\n",
    "        beta[stock]=model.beta\n",
    "        \n",
    "    rsq.index = date_idx\n",
    "    beta.index = date_idx\n",
    "    return beta,rsq"
   ]
  },
  {
   "cell_type": "code",
   "execution_count": 49,
   "metadata": {},
   "outputs": [],
   "source": [
    "beta,rsq = regressionRunner(portfolio)"
   ]
  },
  {
   "cell_type": "code",
   "execution_count": 277,
   "metadata": {},
   "outputs": [],
   "source": [
    "def ATR(portfolio = dict()):\n",
    "    \"\"\"\n",
    "    Position Sizing based on ATR\n",
    "    \"\"\"\n",
    "    atr_20 = pd.DataFrame(index= portfolio['High'].index, columns=portfolio['High'].columns)\n",
    "    for stock in atr_20.columns:\n",
    "        atr_20[stock]=tb.ATR(portfolio['High'][stock], portfolio['Low'][stock], portfolio['Close'][stock], timeperiod=20)\n",
    "        \n",
    "    return atr_20"
   ]
  },
  {
   "cell_type": "code",
   "execution_count": 278,
   "metadata": {},
   "outputs": [],
   "source": [
    "ATR20 = ATR(portfolio)"
   ]
  },
  {
   "cell_type": "code",
   "execution_count": 279,
   "metadata": {},
   "outputs": [],
   "source": [
    "def ranker(toRank = pd.DataFrame()):\n",
    "    \"\"\"\n",
    "    Returns the daily ranking of all the stocks in the \n",
    "    universe excluding NaNs\n",
    "    \"\"\"\n",
    "    return (toRank).rank(axis=1,ascending = False)"
   ]
  },
  {
   "cell_type": "code",
   "execution_count": 56,
   "metadata": {},
   "outputs": [],
   "source": [
    "daily_rank = ranker(beta*rsq)"
   ]
  },
  {
   "cell_type": "code",
   "execution_count": 103,
   "metadata": {},
   "outputs": [],
   "source": [
    "def reDate(dates,day):\n",
    "    \"\"\"\n",
    "    Returns the dates of rebalancing weekly.\n",
    "    If that day exchange is closed, rebalanced \n",
    "    on next possible day.\n",
    "    \"\"\"\n",
    "    updated_dates = list()\n",
    "    date_cnt = 0\n",
    "    for date_idx in dates:\n",
    "        if(date_idx.weekday() == day):\n",
    "            updated_dates.append(date_idx)\n",
    "            date_cnt = 0\n",
    "        else:\n",
    "            date_cnt += 1\n",
    "            \n",
    "        if(date_cnt == 5):#Incase that day is a holiday\n",
    "            date_cnt = 0\n",
    "            updated_dates.append(date_idx)\n",
    "            \n",
    "    return updated_dates"
   ]
  },
  {
   "cell_type": "code",
   "execution_count": 104,
   "metadata": {},
   "outputs": [],
   "source": [
    "updated_dates = reDate(daily_rank.index,2)"
   ]
  },
  {
   "cell_type": "code",
   "execution_count": 225,
   "metadata": {},
   "outputs": [],
   "source": [
    "def backtest(portfolio = dict(),updated_dates = [],nifty_filter = pd.Series(),\n",
    "             stock_filter = pd.DataFrame(),daily_rank = pd.DataFrame(),initial_capital = 1000000,risk_factor = 0.01\n",
    "             ,brokerage_rate = 0.0002):\n",
    "    \"\"\"\n",
    "    \n",
    "    \"\"\"\n",
    "    daily_rank = daily_rank*stock_filter\n",
    "    daily_rank = daily_rank.replace(0,np.NaN)\n",
    "    close = portfolio['Close']\n",
    "\n",
    "    holdings = pd.Series(index = close.index)\n",
    "    booksize = pd.Series(index = close.index)\n",
    "    brokerage = pd.Series(index = close.index)\n",
    "    daily_pnl = pd.Series(index = close.index)\n",
    "    cash = pd.Series(index = close.index)\n",
    "\n",
    "    daily_dfs = []\n",
    "    yesterday_idx = updated_dates[0]\n",
    "    \n",
    "    for date_idx in updated_dates:\n",
    "        if(nifty_filter.loc[date_idx,'Close'] == False and len(daily_dfs) != 0):\n",
    "            \n",
    "            to_sell = (stock_filter.loc[date_idx,:][stock_filter.loc[date_idx,:] == False].index)\n",
    "            \n",
    "            holdings[date_idx] = list(set(holdings[yesterday_idx]) - set(to_sell))\n",
    "            to_sell = list(set(holdings[yesterday_idx]) & set(to_sell))\n",
    "            prev_df = daily_dfs[-1]\n",
    "\n",
    "            daily_pnl[date_idx] = (close.loc[date_idx,to_sell]*prev_df.loc[to_sell,'qty']-prev_df.loc[to_sell,'exposure']).sum()\n",
    "            brokerage[date_idx] = ((close.loc[date_idx,to_sell]*prev_df.loc[to_sell,'qty']+prev_df.loc[to_sell,'exposure'])*brokerage_rate).sum()\n",
    "\n",
    "            cash[date_idx] = cash[yesterday_idx]+daily_pnl[date_idx]-brokerage[date_idx]\n",
    "            booksize[date_idx] = min(initial_capital,cash[date_idx])\n",
    "                \n",
    "            yesterday_idx = date_idx\n",
    "\n",
    "        else:\n",
    "            today_df = pd.DataFrame(index = close.columns,columns=['rank', 'qty', 'price','exposure'])\n",
    "            if len(daily_dfs) == 0:\n",
    "                \n",
    "                booksize[date_idx] = initial_capital\n",
    "                daily_pnl[date_idx] = 0\n",
    "                brokerage[date_idx] = 0\n",
    "                cash[date_idx] = initial_capital\n",
    "                \n",
    "                today_df['rank'] = daily_rank.loc[date_idx,:]\n",
    "                today_df['price'] = close.loc[date_idx, :]\n",
    "                today_df['qty'] = np.floor((booksize[date_idx]*risk_factor)/(ATR20.loc[date_idx,:]))\n",
    "                today_df['exposure'] = today_df['qty']*today_df['price']\n",
    "                today_df = today_df.sort_values('rank')\n",
    "                holdings[date_idx] = today_df[(today_df['exposure'].cumsum()<booksize[date_idx])].index\n",
    "\n",
    "            else:\n",
    "                prev_df = daily_dfs[-1]\n",
    "                prev_univ = holdings[yesterday_idx]\n",
    "\n",
    "                today_df['rank'] = daily_rank.loc[date_idx,:]\n",
    "                today_df['price'] = close.loc[date_idx, :]\n",
    "\n",
    "                daily_pnl[date_idx] = (today_df.loc[prev_univ,'price']*prev_df.loc[prev_univ,'qty']-prev_df.loc[prev_univ,'price']*prev_df.loc[prev_univ,'qty']).sum()\n",
    "                brokerage[date_idx] = ((today_df.loc[prev_univ,'price']*prev_df.loc[prev_univ,'qty']+prev_df.loc[prev_univ,'price']*prev_df.loc[prev_univ,'qty'])*brokerage_rate).sum()\n",
    "\n",
    "                cash[date_idx] = cash[yesterday_idx]+daily_pnl[date_idx]-brokerage[date_idx]\n",
    "                booksize[date_idx] = min(initial_capital,cash[date_idx])\n",
    "                \n",
    "                today_df['qty'] = np.floor((booksize[date_idx]*risk_factor)/(ATR20.loc[date_idx,:]))\n",
    "                today_df['exposure'] = today_df['qty']*today_df['price']\n",
    "                today_df = today_df.sort_values('rank')\n",
    "                holdings[date_idx] = today_df[(today_df['exposure'].cumsum()<booksize[date_idx])].index\n",
    "            \n",
    "            daily_dfs.append(today_df)\n",
    "            yesterday_idx = date_idx\n",
    "    \n",
    "    daily_pnl = daily_pnl.fillna(0)\n",
    "    brokerage = brokerage.fillna(0)\n",
    "    cash = cash.ffill()\n",
    "    cash = cash.bfill()\n",
    "    booksize = booksize.ffill()\n",
    "    booksize = booksize.bfill()\n",
    "    return daily_pnl,booksize,brokerage,cash"
   ]
  },
  {
   "cell_type": "code",
   "execution_count": 226,
   "metadata": {},
   "outputs": [],
   "source": [
    "pnl,cap,bkg,csh = backtest(portfolio,updated_dates,nifty_filter,stock_filter,daily_rank)"
   ]
  },
  {
   "cell_type": "markdown",
   "metadata": {},
   "source": [
    "## Results"
   ]
  },
  {
   "cell_type": "code",
   "execution_count": 228,
   "metadata": {},
   "outputs": [
    {
     "data": {
      "text/plain": [
       "<matplotlib.legend.Legend at 0x1c26e10518>"
      ]
     },
     "execution_count": 228,
     "metadata": {},
     "output_type": "execute_result"
    },
    {
     "data": {
      "image/png": "[encoded data removed]",
      "text/plain": [
       "<Figure size 432x288 with 1 Axes>"
      ]
     },
     "metadata": {
      "needs_background": "light"
     },
     "output_type": "display_data"
    }
   ],
   "source": [
    "import matplotlib.pyplot as plt\n",
    "\n",
    "plt.plot(pnl.index,(NIFTY/NIFTY.iloc[0,:]-1) * 100,label = 'NIFTY')\n",
    "plt.plot(pnl.index,(pnl.cumsum()/1000000) * 100,label= 'Strategy')\n",
    "plt.legend()"
   ]
  },
  {
   "cell_type": "code",
   "execution_count": 229,
   "metadata": {},
   "outputs": [],
   "source": [
    "def equityCurve(pnl = pd.Series()):\n",
    "    %matplotlib inline\n",
    "    pnl.cumsum().plot()"
   ]
  },
  {
   "cell_type": "code",
   "execution_count": 230,
   "metadata": {},
   "outputs": [
    {
     "data": {
      "image/png": "[encoded data removed]",
      "text/plain": [
       "<Figure size 432x288 with 1 Axes>"
      ]
     },
     "metadata": {
      "needs_background": "light"
     },
     "output_type": "display_data"
    }
   ],
   "source": [
    "equityCurve(pnl)"
   ]
  },
  {
   "cell_type": "code",
   "execution_count": 231,
   "metadata": {},
   "outputs": [],
   "source": [
    "def drawdownAnalysis(pnl=pd.Series(),initial_cash = 1000000):\n",
    "    MDD = ((pnl.cumsum().cummax()-pnl.cumsum())/(pnl.cumsum()+initial_cash)*100).max()\n",
    "    print(\"Maximum Drawdown : \"+str(round(MDD,2)) + \"%\")\n",
    "    returns = (pnl.cumsum()[-1]/initial_cash)*100\n",
    "    print(\"Total Returns : \"+str(round(returns,2)) + \"%\")\n",
    "    ret_DD = returns/MDD\n",
    "    print(\"Returns to Drawdown : \" + str(round(ret_DD,2)))"
   ]
  },
  {
   "cell_type": "code",
   "execution_count": 232,
   "metadata": {
    "scrolled": true
   },
   "outputs": [
    {
     "name": "stdout",
     "output_type": "stream",
     "text": [
      "Maximum Drawdown : 19.92%\n",
      "Total Returns : 503.74%\n",
      "Returns to Drawdown : 25.29\n"
     ]
    }
   ],
   "source": [
    "drawdownAnalysis(pnl)"
   ]
  },
  {
   "cell_type": "code",
   "execution_count": 243,
   "metadata": {},
   "outputs": [],
   "source": [
    "def profitability(pnl = pd.Series(),cap = pd.Series(),initial_cash = 1000000):\n",
    "    \n",
    "    print(\"Total Profit: Rs.\"+str(round(pnl.cumsum().iloc[-1],2)))\n",
    "    print(\"Average Return per Weekly Trade : \"+str(round(pnl.sum()/pnl.count(),2)))\n",
    "    \n",
    "    annualized_returns = (((pnl.cumsum().iloc[-1])/initial_cash)*100)/10\n",
    "    annualized_std = (pnl/initial_cash * 100).std()*((252)**0.5)\n",
    "    print(\"Annualized Sharpe: \",str(round(annualized_returns/annualized_std,2))+'\\n')\n",
    "    \n",
    "    returns = round((pnl/cap) * 100,2)\n",
    "    print(\"Minimum Weekly Return : \",str(returns.min())+\"%\")\n",
    "    print(\"Minimum Weekly Return Date: \",str(returns.idxmin())+\"\\n\")\n",
    "     \n",
    "    print(\"Maximum Weekly Return : \",str(returns.max())+\"%\")\n",
    "    print(\"Maximum Weekly Return Date: \",str(returns.idxmax())+\"\\n\")\n",
    "    \n",
    "    print('Average Profitability of Profitable Trade : ',str((returns[returns>0].sum())/(returns[returns>0].count()))+'%')\n",
    "    print('Average Loss of Negative Trade : ',str((returns[returns<0].sum())/(returns[returns<0].count()))+'%\\n')"
   ]
  },
  {
   "cell_type": "code",
   "execution_count": 244,
   "metadata": {},
   "outputs": [
    {
     "name": "stdout",
     "output_type": "stream",
     "text": [
      "Total Profit: Rs.5037363.02\n",
      "Average Return per Weekly Trade : 2033.65\n",
      "Annualized Sharpe:  1.61\n",
      "\n",
      "Minimum Weekly Return :  -7.84%\n",
      "Minimum Weekly Return Date:  2010-12-08 00:00:00\n",
      "\n",
      "Maximum Weekly Return :  17.36%\n",
      "Maximum Weekly Return Date:  2009-05-20 00:00:00\n",
      "\n",
      "Average Profitability of Profitable Trade :  1.5495238095238095%\n",
      "Average Loss of Negative Trade :  -1.3598518518518516%\n",
      "\n"
     ]
    }
   ],
   "source": [
    "profitability(pnl,csh)"
   ]
  },
  {
   "cell_type": "code",
   "execution_count": 250,
   "metadata": {},
   "outputs": [],
   "source": [
    "def brokerage(transactionCost = pd.DataFrame()):\n",
    "    print(\"Transaction Cost : Rs.\"+ str(transactionCost.sum()))\n",
    "    print(\"Total Trades : \"+str(transactionCost[transactionCost != 0].count()))"
   ]
  },
  {
   "cell_type": "code",
   "execution_count": 251,
   "metadata": {},
   "outputs": [
    {
     "name": "stdout",
     "output_type": "stream",
     "text": [
      "Transaction Cost : Rs.126998.78897665079\n",
      "Total Trades : 370\n"
     ]
    }
   ],
   "source": [
    "brokerage(bkg)"
   ]
  },
  {
   "cell_type": "code",
   "execution_count": 252,
   "metadata": {},
   "outputs": [],
   "source": [
    "def hitRatio(pnl = pd.DataFrame()):\n",
    "    print('Average Hit Ratio : ',str((pnl[pnl>0].count()/pnl[pnl != 0].count())))"
   ]
  },
  {
   "cell_type": "code",
   "execution_count": 253,
   "metadata": {},
   "outputs": [
    {
     "name": "stdout",
     "output_type": "stream",
     "text": [
      "Average Hit Ratio :  0.6243243243243243\n"
     ]
    }
   ],
   "source": [
    "hitRatio(pnl)"
   ]
  },
  {
   "cell_type": "code",
   "execution_count": 283,
   "metadata": {},
   "outputs": [],
   "source": [
    "def corrAnalysis(cash = pd.DataFrame()):\n",
    "    corr2nifty=pd.DataFrame(index=cash.index,columns=['strategy','nifty'])\n",
    "    \n",
    "    corr2nifty.loc[:,'strategy']=cash\n",
    "    corr2nifty.loc[:,'nifty']=pd.read_csv(os.path.join(PATH,'NIFTY50.csv'),index_col = 'Date',usecols = ['Date','Close'])['Close']\n",
    "    \n",
    "    corr2nifty['strat_ret_perc']=((corr2nifty['strategy'].pct_change())*100)\n",
    "    corr2nifty['nifty_ret_perc']=((corr2nifty['nifty'].pct_change())*100)\n",
    "\n",
    "    %matplotlib inline\n",
    "    \n",
    "    print(\"Correlation with NIFTY50 : \"+ str(s.pearsonr(corr2nifty['strat_ret_perc'].dropna().values,(corr2nifty['nifty_ret_perc']).dropna().values)[0]))"
   ]
  },
  {
   "cell_type": "code",
   "execution_count": 284,
   "metadata": {},
   "outputs": [
    {
     "name": "stdout",
     "output_type": "stream",
     "text": [
      "Correlation with NIFTY50 : 0.033825489771965096\n"
     ]
    }
   ],
   "source": [
    "corrAnalysis(csh)"
   ]
  }
 ],
 "metadata": {
  "kernelspec": {
   "display_name": "Python 3",
   "language": "python",
   "name": "python3"
  },
  "language_info": {
   "codemirror_mode": {
    "name": "ipython",
    "version": 3
   },
   "file_extension": ".py",
   "mimetype": "text/x-python",
   "name": "python",
   "nbconvert_exporter": "python",
   "pygments_lexer": "ipython3",
   "version": "3.7.3"
  }
 },
 "nbformat": 4,
 "nbformat_minor": 2
}
