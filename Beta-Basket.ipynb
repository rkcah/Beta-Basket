{
 "cells": [
  {
   "cell_type": "code",
   "execution_count": 30,
   "metadata": {},
   "outputs": [
    {
     "name": "stderr",
     "output_type": "stream",
     "text": [
      "//anaconda3/lib/python3.7/site-packages/statsmodels/compat/pandas.py:23: FutureWarning: The Panel class is removed from pandas. Accessing it from the top-level namespace will also be removed in the next version\n",
      "  data_klasses = (pandas.Series, pandas.DataFrame, pandas.Panel)\n"
     ]
    }
   ],
   "source": [
    "#Importing Libraries\n",
    "import pandas as pd\n",
    "import numpy as np\n",
    "import glob\n",
    "from datetime import date,timedelta\n",
    "from nsepy import get_history\n",
    "from pyfinance.ols import PandasRollingOLS\n",
    "import statsmodels.api as sm\n",
    "import talib as tb\n",
    "import os"
   ]
  },
  {
   "cell_type": "code",
   "execution_count": 5,
   "metadata": {},
   "outputs": [],
   "source": [
    "PATH = 'Data/'"
   ]
  },
  {
   "cell_type": "code",
   "execution_count": 22,
   "metadata": {},
   "outputs": [],
   "source": [
    "def portfolioCreator(filter_name=\"\",PATH = 'Data/'):\n",
    "    \"\"\"\n",
    "    Creates a dictionary of dataframes(dates*stocks) of Close,\n",
    "    Open,High,Low and Turnover\n",
    "    \"\"\"\n",
    "    \n",
    "    #Reading the dates and allocating memory\n",
    "    dates = pd.read_csv(os.path.join(PATH,'dates.csv'),header = None,names = [\"Date\"])\n",
    "    dates['Date'] = pd.to_datetime(dates['Date'],yearfirst = True)\n",
    "    files = glob.glob(os.path.join(PATH,'nse_*.csv'))\n",
    "    portfolio = dict()\n",
    "    \n",
    "    for file in files:\n",
    "        \n",
    "        df = pd.read_csv(file)\n",
    "        df['_id']= dates['Date']\n",
    "        df.set_index('_id',inplace = True)\n",
    "        df.index.names = ['Date']\n",
    "        \n",
    "        #Creating the Universe\n",
    "        \n",
    "        if(filter_name == 'NIFTY'):\n",
    "            ticker_list = pd.read_csv(os.path.join(PATH,'ind_nifty50list.csv'))['Symbol']\n",
    "        elif(filter_name == 'FNO'):\n",
    "            ticker_list = pd.read_csv(os.path.join(PATH,'fno_list.csv'))['Symbol']\n",
    "        else:\n",
    "            ticker_list = df.columns\n",
    "            \n",
    "        df = df.loc[:,ticker_list].dropna(axis=1, how='all')\n",
    "        portfolio[file[file.find('.')+1:file.rfind('.')]] = df\n",
    "        \n",
    "    return portfolio"
   ]
  },
  {
   "cell_type": "code",
   "execution_count": 23,
   "metadata": {},
   "outputs": [],
   "source": [
    "portfolio = portfolioCreator()"
   ]
  },
  {
   "cell_type": "code",
   "execution_count": 25,
   "metadata": {},
   "outputs": [],
   "source": [
    "def createFilter(df = pd.DataFrame(),N = 200):\n",
    "    \"\"\"\n",
    "    Creates a filter based on n-day Moving Average\n",
    "    \"\"\"\n",
    "    \n",
    "    _filter = pd.DataFrame(index = df.index,columns = df.columns)\n",
    "    \n",
    "    for stock in df.columns:\n",
    "        _filter.loc[:,stock] = df[stock]>df[stock].rolling(N).mean()\n",
    "    _filter.index = pd.to_datetime(_filter.index,yearfirst=True)\n",
    "    \n",
    "    return _filter"
   ]
  },
  {
   "cell_type": "code",
   "execution_count": 27,
   "metadata": {},
   "outputs": [],
   "source": [
    "stock_filter = createFilter(portfolio['Close'],100)"
   ]
  },
  {
   "cell_type": "code",
   "execution_count": 48,
   "metadata": {},
   "outputs": [],
   "source": [
    "def regressionRunner(portfolio = dict()):\n",
    "    df = np.log(portfolio['Close'])\n",
    "    df = df.reset_index()\n",
    "    date_idx = df.Date\n",
    "    df = df.drop(['Date'],axis=1)\n",
    "    \n",
    "    rsq = pd.DataFrame(index= df.index, columns=df.columns)\n",
    "    beta = pd.DataFrame(index= df.index, columns=df.columns)\n",
    "    \n",
    "    for stock in df.columns:\n",
    "        model = PandasRollingOLS(y=df[stock],x=df.index, window=90,has_const=False)\n",
    "        rsq[stock]= model.rsq[model.rsq<1]\n",
    "        beta[stock]=model.beta\n",
    "        \n",
    "    rsq.index = date_idx\n",
    "    beta.index = date_idx\n",
    "    return beta,rsq"
   ]
  },
  {
   "cell_type": "code",
   "execution_count": 49,
   "metadata": {},
   "outputs": [],
   "source": [
    "beta,rsq = regressionRunner(portfolio)"
   ]
  },
  {
   "cell_type": "code",
   "execution_count": 51,
   "metadata": {},
   "outputs": [],
   "source": [
    "def ATR(portfolio = dict()):\n",
    "    \n",
    "    atr_20 = pd.DataFrame(index= portfolio['High'].index, columns=portfolio['High'].columns)\n",
    "    for stock in atr_20.columns:\n",
    "        atr_20[stock]=tb.ATR(portfolio['High'][stock], portfolio['Low'][stock], portfolio['Close'][stock], timeperiod=20)\n",
    "        \n",
    "    return atr_20"
   ]
  },
  {
   "cell_type": "code",
   "execution_count": 52,
   "metadata": {},
   "outputs": [],
   "source": [
    "ATR20 = ATR(portfolio)"
   ]
  }
 ],
 "metadata": {
  "kernelspec": {
   "display_name": "Python 3",
   "language": "python",
   "name": "python3"
  },
  "language_info": {
   "codemirror_mode": {
    "name": "ipython",
    "version": 3
   },
   "file_extension": ".py",
   "mimetype": "text/x-python",
   "name": "python",
   "nbconvert_exporter": "python",
   "pygments_lexer": "ipython3",
   "version": "3.7.3"
  }
 },
 "nbformat": 4,
 "nbformat_minor": 2
}
