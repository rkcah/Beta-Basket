{
 "cells": [
  {
   "cell_type": "code",
   "execution_count": 30,
   "metadata": {},
   "outputs": [
    {
     "name": "stderr",
     "output_type": "stream",
     "text": [
      "//anaconda3/lib/python3.7/site-packages/statsmodels/compat/pandas.py:23: FutureWarning: The Panel class is removed from pandas. Accessing it from the top-level namespace will also be removed in the next version\n",
      "  data_klasses = (pandas.Series, pandas.DataFrame, pandas.Panel)\n"
     ]
    }
   ],
   "source": [
    "#Importing Libraries\n",
    "import pandas as pd\n",
    "import numpy as np\n",
    "import glob\n",
    "from datetime import date,timedelta\n",
    "from nsepy import get_history\n",
    "from pyfinance.ols import PandasRollingOLS\n",
    "import statsmodels.api as sm\n",
    "import talib as tb\n",
    "import os"
   ]
  },
  {
   "cell_type": "code",
   "execution_count": 5,
   "metadata": {},
   "outputs": [],
   "source": [
    "PATH = 'Data/'"
   ]
  },
  {
   "cell_type": "code",
   "execution_count": 22,
   "metadata": {},
   "outputs": [],
   "source": [
    "def portfolioCreator(filter_name=\"\",PATH = 'Data/'):\n",
    "    \"\"\"\n",
    "    Creates a dictionary of dataframes(dates*stocks) of Close,\n",
    "    Open,High,Low and Turnover\n",
    "    \"\"\"\n",
    "    \n",
    "    #Reading the dates and allocating memory\n",
    "    dates = pd.read_csv(os.path.join(PATH,'dates.csv'),header = None,names = [\"Date\"])\n",
    "    dates['Date'] = pd.to_datetime(dates['Date'],yearfirst = True)\n",
    "    files = glob.glob(os.path.join(PATH,'nse_*.csv'))\n",
    "    portfolio = dict()\n",
    "    \n",
    "    for file in files:\n",
    "        \n",
    "        df = pd.read_csv(file)\n",
    "        df['_id']= dates['Date']\n",
    "        df.set_index('_id',inplace = True)\n",
    "        df.index.names = ['Date']\n",
    "        \n",
    "        #Creating the Universe\n",
    "        \n",
    "        if(filter_name == 'NIFTY'):\n",
    "            ticker_list = pd.read_csv(os.path.join(PATH,'ind_nifty50list.csv'))['Symbol']\n",
    "        elif(filter_name == 'FNO'):\n",
    "            ticker_list = pd.read_csv(os.path.join(PATH,'fno_list.csv'))['Symbol']\n",
    "        else:\n",
    "            ticker_list = df.columns\n",
    "            \n",
    "        df = df.loc[:,ticker_list].dropna(axis=1, how='all')\n",
    "        portfolio[file[file.find('.')+1:file.rfind('.')]] = df\n",
    "        \n",
    "    return portfolio"
   ]
  },
  {
   "cell_type": "code",
   "execution_count": 23,
   "metadata": {},
   "outputs": [],
   "source": [
    "portfolio = portfolioCreator()"
   ]
  },
  {
   "cell_type": "code",
   "execution_count": 25,
   "metadata": {},
   "outputs": [],
   "source": [
    "def createFilter(df = pd.DataFrame(),N = 200):\n",
    "    \"\"\"\n",
    "    Creates a filter based on n-day Moving Average\n",
    "    \"\"\"\n",
    "    \n",
    "    _filter = pd.DataFrame(index = df.index,columns = df.columns)\n",
    "    \n",
    "    for stock in df.columns:\n",
    "        _filter.loc[:,stock] = df[stock]>df[stock].rolling(N).mean()\n",
    "    _filter.index = pd.to_datetime(_filter.index,yearfirst=True)\n",
    "    \n",
    "    return _filter"
   ]
  },
  {
   "cell_type": "code",
   "execution_count": 72,
   "metadata": {},
   "outputs": [],
   "source": [
    "NIFTY = pd.read_csv(os.path.join(PATH,'NIFTY50.csv'),index_col = 'Date',usecols = ['Date','Close'])\n",
    "nifty_filter = createFilter(NIFTY,200)\n",
    "\n",
    "stock_filter = createFilter(portfolio['Close'],100)"
   ]
  },
  {
   "cell_type": "code",
   "execution_count": 48,
   "metadata": {},
   "outputs": [],
   "source": [
    "def regressionRunner(portfolio = dict()):\n",
    "    df = np.log(portfolio['Close'])\n",
    "    df = df.reset_index()\n",
    "    date_idx = df.Date\n",
    "    df = df.drop(['Date'],axis=1)\n",
    "    \n",
    "    rsq = pd.DataFrame(index= df.index, columns=df.columns)\n",
    "    beta = pd.DataFrame(index= df.index, columns=df.columns)\n",
    "    \n",
    "    for stock in df.columns:\n",
    "        model = PandasRollingOLS(y=df[stock],x=df.index, window=90,has_const=False)\n",
    "        rsq[stock]= model.rsq[model.rsq<1]\n",
    "        beta[stock]=model.beta\n",
    "        \n",
    "    rsq.index = date_idx\n",
    "    beta.index = date_idx\n",
    "    return beta,rsq"
   ]
  },
  {
   "cell_type": "code",
   "execution_count": 49,
   "metadata": {},
   "outputs": [],
   "source": [
    "beta,rsq = regressionRunner(portfolio)"
   ]
  },
  {
   "cell_type": "code",
   "execution_count": 51,
   "metadata": {},
   "outputs": [],
   "source": [
    "def ATR(portfolio = dict()):\n",
    "    \n",
    "    atr_20 = pd.DataFrame(index= portfolio['High'].index, columns=portfolio['High'].columns)\n",
    "    for stock in atr_20.columns:\n",
    "        atr_20[stock]=tb.ATR(portfolio['High'][stock], portfolio['Low'][stock], portfolio['Close'][stock], timeperiod=20)\n",
    "        \n",
    "    return atr_20"
   ]
  },
  {
   "cell_type": "code",
   "execution_count": 53,
   "metadata": {},
   "outputs": [],
   "source": [
    "ATR20 = ATR(portfolio)"
   ]
  },
  {
   "cell_type": "code",
   "execution_count": 55,
   "metadata": {},
   "outputs": [],
   "source": [
    "def ranker(toRank = pd.DataFrame()):\n",
    "    \"\"\"\n",
    "    Returns the daily ranking of all the stocks in the \n",
    "    universe excluding NaNs\n",
    "    \"\"\"\n",
    "    return (toRank).rank(axis=1,ascending = False)"
   ]
  },
  {
   "cell_type": "code",
   "execution_count": 56,
   "metadata": {},
   "outputs": [],
   "source": [
    "daily_rank = ranker(beta*rsq)"
   ]
  },
  {
   "cell_type": "code",
   "execution_count": 59,
   "metadata": {},
   "outputs": [],
   "source": [
    "def reDate(dates,day):\n",
    "    \"\"\"\n",
    "    Returns the dates of rebalancing weekly.\n",
    "    If that day exchange is closed, rebalanced \n",
    "    on next possible day.\n",
    "    \"\"\"\n",
    "    updated_dates = list()\n",
    "    date_cnt = 0\n",
    "    for date_idx in dates:\n",
    "        if(date_idx.weekday() == day):\n",
    "            updated_dates.append(date_idx)\n",
    "            date_cnt = 0\n",
    "        else:\n",
    "            date_cnt += 1\n",
    "            \n",
    "        if(date_cnt == 5):#Incase that day is a holiday\n",
    "            date_cnt = 0\n",
    "            updated_dates.append(date_idx)\n",
    "            \n",
    "    return updated_dates"
   ]
  },
  {
   "cell_type": "code",
   "execution_count": 60,
   "metadata": {},
   "outputs": [],
   "source": [
    "updated_dates = reDate(daily_rank.index,2)"
   ]
  },
  {
   "cell_type": "code",
   "execution_count": 61,
   "metadata": {},
   "outputs": [],
   "source": [
    "def backtest(portfolio = dict(),updated_dates = [],nifty_filter = pd.Series(),\n",
    "             stock_filter = pd.DataFrame(),daily_rank = pd.DataFrame(),initial_capital = 1000000,risk_factor = 0.01\n",
    "             ,brokerage_rate = 0.0002):\n",
    "    \"\"\"\n",
    "    \n",
    "    \"\"\"\n",
    "    daily_rank = daily_rank*stock_filter\n",
    "    daily_rank = daily_rank.replace(0,np.NaN)\n",
    "    close = portfolio['Close']\n",
    "\n",
    "    holdings = pd.Series(index = close.index)\n",
    "    booksize = pd.Series(index = close.index)\n",
    "    brokerage = pd.Series(index = close.index)\n",
    "    daily_pnl = pd.Series(index = close.index)\n",
    "\n",
    "    daily_dfs = []\n",
    "    yesterday_idx = updated_dates[0]\n",
    "    \n",
    "    for date_idx in updated_dates:\n",
    "        if(nifty_filter.loc[date_idx,'Close'] == False and len(daily_dfs) != 0):\n",
    "            \n",
    "            to_sell = (stock_filter.loc[date_idx,:][stock_filter.loc[date_idx,:] == False].index)\n",
    "            \n",
    "            holdings[date_idx] = list(set(holdings[yesterday_idx]) - set(to_sell))\n",
    "            to_sell = list(set(holdings[yesterday_idx]) & set(to_sell))\n",
    "            prev_df = daily_dfs[-1]\n",
    "\n",
    "            daily_pnl[date_idx] = (close.loc[date_idx,to_sell]*prev_df.loc[to_sell,'qty']-prev_df.loc[to_sell,'exposure']).sum()\n",
    "            brokerage[date_idx] = ((close.loc[date_idx,to_sell]*prev_df.loc[to_sell,'qty']+prev_df.loc[to_sell,'exposure'])*brokerage_rate).sum()\n",
    "\n",
    "            cash = booksize[yesterday_idx]+daily_pnl[date_idx]-brokerage[date_idx]\n",
    "            booksize[date_idx] = min(initial_capital,cash)\n",
    "                \n",
    "            yesterday_idx = date_idx\n",
    "\n",
    "        else:\n",
    "            today_df = pd.DataFrame(index = close.columns,columns=['rank', 'qty', 'price','exposure'])\n",
    "            if len(daily_dfs) == 0:\n",
    "                \n",
    "                booksize[date_idx] = initial_capital\n",
    "                daily_pnl[date_idx] = 0\n",
    "                brokerage[date_idx] = 0\n",
    "                \n",
    "                today_df['rank'] = daily_rank.loc[date_idx,:]\n",
    "                today_df['price'] = close.loc[date_idx, :]\n",
    "                today_df['qty'] = np.floor((booksize[date_idx]*risk_factor)/(ATR20.loc[date_idx,:]))\n",
    "                today_df['exposure'] = today_df['qty']*today_df['price']\n",
    "                today_df = today_df.sort_values('rank')\n",
    "                holdings[date_idx] = today_df[(today_df['exposure'].cumsum()<booksize[date_idx])].index\n",
    "\n",
    "            else:\n",
    "                prev_df = daily_dfs[-1]\n",
    "                prev_univ = holdings[yesterday_idx]\n",
    "\n",
    "                today_df['rank'] = daily_rank.loc[date_idx,:]\n",
    "                today_df['price'] = close.loc[date_idx, :]\n",
    "\n",
    "                daily_pnl[date_idx] = (today_df.loc[prev_univ,'price']*prev_df.loc[prev_univ,'qty']-prev_df.loc[prev_univ,'price']*prev_df.loc[prev_univ,'qty']).sum()\n",
    "                brokerage[date_idx] = ((today_df.loc[prev_univ,'price']*prev_df.loc[prev_univ,'qty']+prev_df.loc[prev_univ,'price']*prev_df.loc[prev_univ,'qty'])*brokerage_rate).sum()\n",
    "\n",
    "                cash = booksize[yesterday_idx]+daily_pnl[date_idx]-brokerage[date_idx]\n",
    "                booksize[date_idx] = min(initial_capital,cash)\n",
    "                \n",
    "                today_df['qty'] = np.floor((booksize[date_idx]*risk_factor)/(ATR20.loc[date_idx,:]))\n",
    "                today_df['exposure'] = today_df['qty']*today_df['price']\n",
    "                today_df = today_df.sort_values('rank')\n",
    "                holdings[date_idx] = today_df[(today_df['exposure'].cumsum()<booksize[date_idx])].index\n",
    "            \n",
    "            daily_dfs.append(today_df)\n",
    "            yesterday_idx = date_idx\n",
    "    \n",
    "    daily_pnl = daily_pnl.fillna(0)\n",
    "    brokerage = brokerage.fillna(0)\n",
    "    booksize = booksize.ffill()\n",
    "    booksize = booksize.bfill()\n",
    "    return daily_pnl,booksize,brokerage"
   ]
  },
  {
   "cell_type": "code",
   "execution_count": 83,
   "metadata": {},
   "outputs": [],
   "source": [
    "pnl,cap,bkg = backtest(portfolio,updated_dates,nifty_filter,stock_filter,daily_rank)"
   ]
  },
  {
   "cell_type": "code",
   "execution_count": 84,
   "metadata": {},
   "outputs": [
    {
     "data": {
      "text/plain": [
       "<matplotlib.legend.Legend at 0x1c61c59be0>"
      ]
     },
     "execution_count": 84,
     "metadata": {},
     "output_type": "execute_result"
    },
    {
     "data": {
      "image/png": "[encoded data removed]",
      "text/plain": [
       "<Figure size 432x288 with 1 Axes>"
      ]
     },
     "metadata": {
      "needs_background": "light"
     },
     "output_type": "display_data"
    }
   ],
   "source": [
    "import matplotlib.pyplot as plt\n",
    "\n",
    "plt.plot(pnl.index,(NIFTY/NIFTY.iloc[0,:]-1) * 100,label = 'NIFTY')\n",
    "plt.plot(pnl.index,(pnl.cumsum()/1000000) * 100,label= 'Strategy')\n",
    "plt.legend()"
   ]
  },
  {
   "cell_type": "code",
   "execution_count": null,
   "metadata": {},
   "outputs": [],
   "source": []
  }
 ],
 "metadata": {
  "kernelspec": {
   "display_name": "Python 3",
   "language": "python",
   "name": "python3"
  },
  "language_info": {
   "codemirror_mode": {
    "name": "ipython",
    "version": 3
   },
   "file_extension": ".py",
   "mimetype": "text/x-python",
   "name": "python",
   "nbconvert_exporter": "python",
   "pygments_lexer": "ipython3",
   "version": "3.7.3"
  }
 },
 "nbformat": 4,
 "nbformat_minor": 2
}
